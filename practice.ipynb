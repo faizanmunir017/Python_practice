{
 "cells": [
  {
   "cell_type": "code",
   "execution_count": 1,
   "metadata": {},
   "outputs": [
    {
     "name": "stdout",
     "output_type": "stream",
     "text": [
      "Hello\n"
     ]
    }
   ],
   "source": [
    "print (\"Hello\")"
   ]
  },
  {
   "cell_type": "code",
   "execution_count": null,
   "metadata": {},
   "outputs": [
    {
     "name": "stdout",
     "output_type": "stream",
     "text": [
      "Greater number\n"
     ]
    }
   ],
   "source": [
    "#Code block :\n",
    "if 5>2:\n",
    "    print(\"Greater number\")\n",
    "\n",
    "else:\n",
    "    print(\"Lesser number\")"
   ]
  },
  {
   "cell_type": "code",
   "execution_count": null,
   "metadata": {},
   "outputs": [
    {
     "name": "stdout",
     "output_type": "stream",
     "text": [
      "<class 'int'>\n",
      "<class 'int'>\n",
      "12\n"
     ]
    }
   ],
   "source": [
    "x=5\n",
    "y=7\n",
    "\n",
    "print(type(x))\n",
    "print(type(y))\n",
    "\n",
    "print(x+y)"
   ]
  },
  {
   "cell_type": "code",
   "execution_count": null,
   "metadata": {},
   "outputs": [
    {
     "name": "stdout",
     "output_type": "stream",
     "text": [
      "Python is fantastic\n",
      "Python is awesome\n"
     ]
    }
   ],
   "source": [
    "x = \"awesome\" # Global var\n",
    "\n",
    "def myfunc(): \n",
    "  x = \"fantastic\"  #Local var\n",
    "  print(\"Python is \" + x)\n",
    "\n",
    "myfunc()\n",
    "\n",
    "print(\"Python is \" + x)"
   ]
  },
  {
   "cell_type": "code",
   "execution_count": 13,
   "metadata": {},
   "outputs": [
    {
     "name": "stdout",
     "output_type": "stream",
     "text": [
      "List\n",
      "Printing complete list:  [1, 2, 3, 4, 56]\n",
      "First method to Iterate list: \n",
      "0   1\n",
      "1   2\n",
      "2   3\n",
      "3   4\n",
      "4   56\n",
      "Second method to print List: \n",
      "1\n",
      "2\n",
      "3\n",
      "4\n",
      "56\n"
     ]
    }
   ],
   "source": [
    "print(\"List\")\n",
    "\n",
    "myList=[1,2,3,4,56]\n",
    "\n",
    "print(\"Printing complete list: \",myList)\n",
    "\n",
    "print(\"First method to Iterate list: \")\n",
    "for i in range(len(myList)):\n",
    "    print(i,\" \",myList[i])\n",
    "\n",
    "print(\"Second method to print List: \" )\n",
    "\n",
    "for x in myList:\n",
    "    print(x)\n",
    "\n",
    "\n",
    "\n"
   ]
  },
  {
   "cell_type": "code",
   "execution_count": 17,
   "metadata": {},
   "outputs": [
    {
     "name": "stdout",
     "output_type": "stream",
     "text": [
      "My list is  :  ['banana', 'cherry']\n",
      "This list is :  ['banana', 'cherry']\n"
     ]
    }
   ],
   "source": [
    "thislist = [\"apple\", \"banana\", \"cherry\"]\n",
    "mylist =thislist\n",
    "thislist.remove(\"apple\")\n",
    "print(\"My list is  : \",mylist)\n",
    "\n",
    "print(\"This list is : \",thislist)\n",
    "\n",
    "#Equal to will make a reference. Any changes in list 2 will be automatically reflected in list 1 "
   ]
  },
  {
   "cell_type": "code",
   "execution_count": null,
   "metadata": {},
   "outputs": [
    {
     "name": "stdout",
     "output_type": "stream",
     "text": [
      "20\n"
     ]
    }
   ],
   "source": [
    "\n",
    "#Functions\n",
    "\n",
    "\n",
    "def Area(x,y):\n",
    "\n",
    "    return x*y\n",
    "\n",
    "square_area=Area(4,5)\n",
    "\n",
    "print(square_area)\n",
    "\n",
    "\n",
    "\n",
    "\n",
    "\n"
   ]
  },
  {
   "cell_type": "code",
   "execution_count": 21,
   "metadata": {},
   "outputs": [
    {
     "name": "stdout",
     "output_type": "stream",
     "text": [
      "5\n"
     ]
    }
   ],
   "source": [
    "class myClass:\n",
    "    x=5\n",
    "\n",
    "p1=myClass()\n",
    "print(p1.x)"
   ]
  },
  {
   "cell_type": "code",
   "execution_count": 36,
   "metadata": {},
   "outputs": [
    {
     "name": "stdout",
     "output_type": "stream",
     "text": [
      "name: 05x  Grad Year: 2024 Batch: 2020\n"
     ]
    }
   ],
   "source": [
    "class Person:\n",
    "\n",
    "    def __init__(self,age,name,number):\n",
    "        self.age=age\n",
    "        self.name=name\n",
    "        self.number=number\n",
    "\n",
    "\n",
    "\n",
    "person1=Person(5,\"Hamza\",\"03104332170\")\n",
    "\n",
    "\n",
    "class Student(Person):\n",
    "    def __init__(self,name,number,age,year,batch):\n",
    "        super().__init__(age,number,name)\n",
    "        self.year=year\n",
    "        self.batch=batch\n",
    "\n",
    "    def print(self):\n",
    "        print(\"name:\",self.name,\" Grad Year:\",self.year,\"Batch:\",self.batch)\n",
    "\n",
    "\n",
    "\n",
    "student1=Student(\"Faizan\",\"05x\",\"23\",\"2024\",\"2020\")\n",
    "student1.print()\n",
    "\n",
    "\n",
    "# # person1=student1\n",
    "# # print(person1.batch)\n",
    "# student1=person1\n",
    "# print(student1.batch)\n",
    "\n"
   ]
  },
  {
   "cell_type": "code",
   "execution_count": null,
   "metadata": {},
   "outputs": [],
   "source": []
  }
 ],
 "metadata": {
  "kernelspec": {
   "display_name": "Python 3",
   "language": "python",
   "name": "python3"
  },
  "language_info": {
   "codemirror_mode": {
    "name": "ipython",
    "version": 3
   },
   "file_extension": ".py",
   "mimetype": "text/x-python",
   "name": "python",
   "nbconvert_exporter": "python",
   "pygments_lexer": "ipython3",
   "version": "3.13.0"
  }
 },
 "nbformat": 4,
 "nbformat_minor": 2
}
